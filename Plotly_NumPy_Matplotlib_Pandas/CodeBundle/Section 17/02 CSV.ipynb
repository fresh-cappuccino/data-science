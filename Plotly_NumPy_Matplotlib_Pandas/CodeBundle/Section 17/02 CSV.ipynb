{
 "cells": [
  {
   "cell_type": "markdown",
   "metadata": {},
   "source": [
    "# Handling CSV with Python"
   ]
  },
  {
   "cell_type": "code",
   "execution_count": 26,
   "metadata": {},
   "outputs": [
    {
     "name": "stdout",
     "output_type": "stream",
     "text": [
      "<_io.TextIOWrapper name='test.csv' mode='r' encoding='cp1252'>\n"
     ]
    }
   ],
   "source": [
    "import csv\n",
    "\n",
    "file = open('test.csv', 'r')\n",
    "print(file)"
   ]
  },
  {
   "cell_type": "code",
   "execution_count": 27,
   "metadata": {},
   "outputs": [
    {
     "name": "stdout",
     "output_type": "stream",
     "text": [
      "<_csv.reader object at 0x04BC28F0>\n"
     ]
    }
   ],
   "source": [
    "csvfile = csv.reader(file, delimiter=',')\n",
    "print(csvfile)"
   ]
  },
  {
   "cell_type": "code",
   "execution_count": 29,
   "metadata": {},
   "outputs": [],
   "source": [
    "for row in csvfile:\n",
    "    print(row)"
   ]
  },
  {
   "cell_type": "code",
   "execution_count": 30,
   "metadata": {},
   "outputs": [],
   "source": [
    "file.close()"
   ]
  },
  {
   "cell_type": "code",
   "execution_count": 31,
   "metadata": {},
   "outputs": [
    {
     "name": "stdout",
     "output_type": "stream",
     "text": [
      "<_io.TextIOWrapper name='test.csv' mode='r' encoding='cp1252'>\n",
      "<_csv.reader object at 0x04BC2A70>\n"
     ]
    }
   ],
   "source": [
    "file = open('test.csv', 'r')\n",
    "print(file)\n",
    "csvfile = csv.reader(file, delimiter=',')\n",
    "print(csvfile)"
   ]
  },
  {
   "cell_type": "code",
   "execution_count": 32,
   "metadata": {},
   "outputs": [
    {
     "name": "stdout",
     "output_type": "stream",
     "text": [
      "Banana\n",
      "Yellow\n",
      "250\n",
      "Orange\n",
      "Orange\n",
      "200\n",
      "Grapes\n",
      "Green\n",
      "400\n",
      "Tomoto\n",
      "Red\n",
      "100\n",
      "Spinach\n",
      "Greem\n",
      "40\n",
      "Potatoes\n",
      "Grey\n",
      "400\n",
      "Rice\n",
      "White\n",
      "300\n",
      "Rice\n",
      "Brown\n",
      "400\n",
      "Wheat\n",
      "Brown\n",
      "500\n",
      "Barley\n",
      "Yellow\n",
      "500\n"
     ]
    }
   ],
   "source": [
    "for row in csvfile:\n",
    "    for element in row:\n",
    "        print(element)"
   ]
  },
  {
   "cell_type": "code",
   "execution_count": 33,
   "metadata": {},
   "outputs": [],
   "source": [
    "file.close()"
   ]
  },
  {
   "cell_type": "code",
   "execution_count": null,
   "metadata": {},
   "outputs": [],
   "source": []
  }
 ],
 "metadata": {
  "kernelspec": {
   "display_name": "Python 3",
   "language": "python",
   "name": "python3"
  },
  "language_info": {
   "codemirror_mode": {
    "name": "ipython",
    "version": 3
   },
   "file_extension": ".py",
   "mimetype": "text/x-python",
   "name": "python",
   "nbconvert_exporter": "python",
   "pygments_lexer": "ipython3",
   "version": "3.7.0"
  }
 },
 "nbformat": 4,
 "nbformat_minor": 2
}
