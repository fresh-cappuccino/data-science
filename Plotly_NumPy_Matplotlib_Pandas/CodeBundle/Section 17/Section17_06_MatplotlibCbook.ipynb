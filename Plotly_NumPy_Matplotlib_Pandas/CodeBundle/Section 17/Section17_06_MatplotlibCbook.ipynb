{
 "cells": [
  {
   "cell_type": "markdown",
   "metadata": {},
   "source": [
    "# Matplotlib CBook"
   ]
  },
  {
   "cell_type": "code",
   "execution_count": 2,
   "metadata": {},
   "outputs": [],
   "source": [
    "import numpy as np\n",
    "import matplotlib.cbook as cbook"
   ]
  },
  {
   "cell_type": "code",
   "execution_count": 3,
   "metadata": {},
   "outputs": [],
   "source": [
    "datafile = cbook.get_sample_data('aapl.npz')\n",
    "r = np.load(datafile)"
   ]
  },
  {
   "cell_type": "code",
   "execution_count": 4,
   "metadata": {},
   "outputs": [
    {
     "name": "stdout",
     "output_type": "stream",
     "text": [
      "['price_data']\n"
     ]
    }
   ],
   "source": [
    "print(r.files)"
   ]
  },
  {
   "cell_type": "code",
   "execution_count": 5,
   "metadata": {},
   "outputs": [
    {
     "name": "stdout",
     "output_type": "stream",
     "text": [
      "[('1984-09-07',  26.5 ,  26.87,  26.25,  26.5 ,  2981600,   3.02)\n",
      " ('1984-09-10',  26.5 ,  26.62,  25.87,  26.37,  2346400,   3.01)\n",
      " ('1984-09-11',  26.62,  27.37,  26.62,  26.87,  5444000,   3.07) ...\n",
      " ('2008-10-10',  85.7 , 100.  ,  85.  ,  96.8 , 79260700,  96.8 )\n",
      " ('2008-10-13', 104.55, 110.53, 101.02, 110.26, 54967000, 110.26)\n",
      " ('2008-10-14', 116.26, 116.4 , 103.14, 104.08, 70749800, 104.08)]\n"
     ]
    }
   ],
   "source": [
    "print(r['price_data'])"
   ]
  },
  {
   "cell_type": "code",
   "execution_count": null,
   "metadata": {},
   "outputs": [],
   "source": []
  }
 ],
 "metadata": {
  "kernelspec": {
   "display_name": "Python 3",
   "language": "python",
   "name": "python3"
  },
  "language_info": {
   "codemirror_mode": {
    "name": "ipython",
    "version": 3
   },
   "file_extension": ".py",
   "mimetype": "text/x-python",
   "name": "python",
   "nbconvert_exporter": "python",
   "pygments_lexer": "ipython3",
   "version": "3.7.0"
  }
 },
 "nbformat": 4,
 "nbformat_minor": 2
}
