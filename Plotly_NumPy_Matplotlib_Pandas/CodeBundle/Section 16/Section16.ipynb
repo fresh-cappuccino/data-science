{
 "cells": [
  {
   "cell_type": "markdown",
   "metadata": {},
   "source": [
    "# Dot Product"
   ]
  },
  {
   "cell_type": "code",
   "execution_count": null,
   "metadata": {},
   "outputs": [],
   "source": [
    "import numpy as np\n",
    "\n",
    "print(np.dot(10, 5))"
   ]
  },
  {
   "cell_type": "code",
   "execution_count": null,
   "metadata": {},
   "outputs": [],
   "source": [
    "a = np.array([2, 4], np.uint8)\n",
    "b = np.array([5, 6], np.uint8)\n",
    "\n",
    "print(np.dot(a, b))"
   ]
  },
  {
   "cell_type": "code",
   "execution_count": null,
   "metadata": {},
   "outputs": [],
   "source": [
    "a = np.array([[2, 4], [5, 8]], np.uint8)\n",
    "b = np.array([[5, 6], [9, 3]], np.uint8)\n",
    "\n",
    "print(np.dot(a, b))"
   ]
  },
  {
   "cell_type": "code",
   "execution_count": null,
   "metadata": {},
   "outputs": [],
   "source": [
    "a = np.random.rand(10, 5)\n",
    "b = np.random.rand(5, 2)\n",
    "c = np.random.rand(2, 3)\n",
    "d = np.random.rand(3, 4)\n",
    "\n",
    "e = np.linalg.multi_dot([a, b, c, d])\n",
    "print(e)\n"
   ]
  },
  {
   "cell_type": "markdown",
   "metadata": {},
   "source": [
    "# Vector Dot Product"
   ]
  },
  {
   "cell_type": "code",
   "execution_count": 5,
   "metadata": {},
   "outputs": [
    {
     "name": "stdout",
     "output_type": "stream",
     "text": [
      "11\n"
     ]
    }
   ],
   "source": [
    "a = np.array ([1, 2])\n",
    "b = np.array ([3, 4])\n",
    "\n",
    "print(np.vdot(a, b))"
   ]
  },
  {
   "cell_type": "code",
   "execution_count": 6,
   "metadata": {},
   "outputs": [
    {
     "name": "stdout",
     "output_type": "stream",
     "text": [
      "(42-11j)\n"
     ]
    }
   ],
   "source": [
    "a = np.array ([1 + 5j, 2 + 3j])\n",
    "b = np.array ([3 + 2j, 4 + 7j])\n",
    "\n",
    "print(np.vdot(a, b))"
   ]
  },
  {
   "cell_type": "code",
   "execution_count": 7,
   "metadata": {},
   "outputs": [
    {
     "name": "stdout",
     "output_type": "stream",
     "text": [
      "(42+11j)\n"
     ]
    }
   ],
   "source": [
    "print(np.vdot(b, a))"
   ]
  },
  {
   "cell_type": "markdown",
   "metadata": {},
   "source": [
    "# Inner Product"
   ]
  },
  {
   "cell_type": "code",
   "execution_count": 9,
   "metadata": {},
   "outputs": [
    {
     "name": "stdout",
     "output_type": "stream",
     "text": [
      "12\n"
     ]
    }
   ],
   "source": [
    "a = np.array([1, 2, 3, 4, 5, 6])\n",
    "b = np.array([0, 1, 0, 1, 0, 1])\n",
    "\n",
    "print(np.inner(a, b))"
   ]
  },
  {
   "cell_type": "code",
   "execution_count": 10,
   "metadata": {},
   "outputs": [
    {
     "name": "stdout",
     "output_type": "stream",
     "text": [
      "[[ 2  4]\n",
      " [ 5 10]]\n"
     ]
    }
   ],
   "source": [
    "a = np.array([[1, 2, 3], [4, 5, 6]])\n",
    "b = np.array([[0, 1, 0], [1, 0, 1]])\n",
    "\n",
    "print(np.inner(a, b))"
   ]
  },
  {
   "cell_type": "markdown",
   "metadata": {},
   "source": [
    "# QR Decomposition"
   ]
  },
  {
   "cell_type": "code",
   "execution_count": 11,
   "metadata": {},
   "outputs": [
    {
     "name": "stdout",
     "output_type": "stream",
     "text": [
      "[[0.53946039 0.71357161 0.13546173]\n",
      " [0.41274675 0.75412655 0.46267726]\n",
      " [0.18045161 0.05626532 0.6183973 ]]\n"
     ]
    }
   ],
   "source": [
    "a = np.random.rand(3, 3)\n",
    "print(a)"
   ]
  },
  {
   "cell_type": "code",
   "execution_count": 14,
   "metadata": {},
   "outputs": [
    {
     "name": "stdout",
     "output_type": "stream",
     "text": [
      "q =  [[-0.76757776  0.21735149 -0.6029782 ]\n",
      " [-0.58728172 -0.61534322  0.52578788]\n",
      " [-0.25675777  0.75770116  0.59997033]] \n",
      "\n",
      "r =  [[-0.70280877 -1.005053   -0.53447762]\n",
      " [ 0.         -0.26631851  0.21329785]\n",
      " [ 0.          0.          0.53260966]] \n",
      "\n",
      "[[0.53946039 0.71357161 0.13546173]\n",
      " [0.41274675 0.75412655 0.46267726]\n",
      " [0.18045161 0.05626532 0.6183973 ]]\n"
     ]
    }
   ],
   "source": [
    "q, r = np.linalg.qr(a)\n",
    "print('q = ', q, '\\n\\nr = ', r, '\\n')\n",
    "\n",
    "print(np.dot(q, r))"
   ]
  },
  {
   "cell_type": "markdown",
   "metadata": {},
   "source": [
    "# Determinant and Solving Linear Equations"
   ]
  },
  {
   "cell_type": "code",
   "execution_count": 15,
   "metadata": {},
   "outputs": [
    {
     "name": "stdout",
     "output_type": "stream",
     "text": [
      "1.9999999999999971\n"
     ]
    }
   ],
   "source": [
    "a = np.array([[5, 6], [3, 4]])\n",
    "\n",
    "print(np.linalg.det(a))"
   ]
  },
  {
   "cell_type": "code",
   "execution_count": 16,
   "metadata": {},
   "outputs": [
    {
     "name": "stdout",
     "output_type": "stream",
     "text": [
      "[2. 1. 3.]\n"
     ]
    }
   ],
   "source": [
    "a = np.array([[2, 1, -3 ], [4, -2, 1], [3, 5, -2]], np.int16)\n",
    "b = np.array([-4, 9, 5], np.int16)\n",
    "\n",
    "# ax = b\n",
    "\n",
    "x = np.linalg.solve(a, b)\n",
    "print(x)"
   ]
  },
  {
   "cell_type": "code",
   "execution_count": null,
   "metadata": {},
   "outputs": [],
   "source": []
  }
 ],
 "metadata": {
  "kernelspec": {
   "display_name": "Python 3",
   "language": "python",
   "name": "python3"
  },
  "language_info": {
   "codemirror_mode": {
    "name": "ipython",
    "version": 3
   },
   "file_extension": ".py",
   "mimetype": "text/x-python",
   "name": "python",
   "nbconvert_exporter": "python",
   "pygments_lexer": "ipython3",
   "version": "3.5.3"
  }
 },
 "nbformat": 4,
 "nbformat_minor": 2
}
