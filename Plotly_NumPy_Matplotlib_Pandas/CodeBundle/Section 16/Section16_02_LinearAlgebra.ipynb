{
 "cells": [
  {
   "cell_type": "code",
   "execution_count": 3,
   "metadata": {},
   "outputs": [
    {
     "name": "stdout",
     "output_type": "stream",
     "text": [
      "[[1 2 3]\n",
      " [4 5 6]\n",
      " [7 8 9]]\n",
      "\n",
      " [[-4.50359963e+15  9.00719925e+15 -4.50359963e+15]\n",
      " [ 9.00719925e+15 -1.80143985e+16  9.00719925e+15]\n",
      " [-4.50359963e+15  9.00719925e+15 -4.50359963e+15]]\n"
     ]
    }
   ],
   "source": [
    "import numpy as np\n",
    "import scipy.linalg\n",
    "\n",
    "x = np.array([[1, 2, 3], [4, 5, 6], [7, 8, 9]])\n",
    "print(x)\n",
    "\n",
    "print(\"\\n\", scipy.linalg.inv(x))"
   ]
  },
  {
   "cell_type": "code",
   "execution_count": 5,
   "metadata": {},
   "outputs": [
    {
     "name": "stdout",
     "output_type": "stream",
     "text": [
      "[2. 1. 3.]\n"
     ]
    }
   ],
   "source": [
    "# ax = b\n",
    "a = np.array([[2, 1, -3], [4, -2, 1], [3, 5, -2]])\n",
    "b = np.array([-4, 9, 5])\n",
    "\n",
    "print(scipy.linalg.solve(a, b))"
   ]
  },
  {
   "cell_type": "code",
   "execution_count": 7,
   "metadata": {},
   "outputs": [
    {
     "name": "stdout",
     "output_type": "stream",
     "text": [
      "3.0\n"
     ]
    }
   ],
   "source": [
    "a = np.array([[0, 2, 3], [4, 5, 6], [7, 8, 9]])\n",
    "print(scipy.linalg.det(a))"
   ]
  },
  {
   "cell_type": "code",
   "execution_count": 8,
   "metadata": {},
   "outputs": [
    {
     "name": "stdout",
     "output_type": "stream",
     "text": [
      "16.852299546352718\n"
     ]
    }
   ],
   "source": [
    "print(scipy.linalg.norm(a))"
   ]
  },
  {
   "cell_type": "code",
   "execution_count": 9,
   "metadata": {},
   "outputs": [
    {
     "name": "stdout",
     "output_type": "stream",
     "text": [
      "[[ 0  1  2  3  4  5]\n",
      " [ 6  7  8  9 10 11]\n",
      " [12 13 14 15 16 17]\n",
      " [18 19 20 21 22 23]\n",
      " [24 25 26 27 28 29]\n",
      " [30 31 32 33 34 35]]\n"
     ]
    }
   ],
   "source": [
    "a = np.arange(36).reshape((6, 6))\n",
    "print(a)"
   ]
  },
  {
   "cell_type": "code",
   "execution_count": 10,
   "metadata": {},
   "outputs": [
    {
     "name": "stdout",
     "output_type": "stream",
     "text": [
      "[[ 0  0  0  0  0  0]\n",
      " [ 6  7  0  0  0  0]\n",
      " [12 13 14  0  0  0]\n",
      " [18 19 20 21  0  0]\n",
      " [24 25 26 27 28  0]\n",
      " [30 31 32 33 34 35]]\n"
     ]
    }
   ],
   "source": [
    "print(scipy.linalg.tril(a, k=0))"
   ]
  },
  {
   "cell_type": "code",
   "execution_count": 11,
   "metadata": {},
   "outputs": [
    {
     "name": "stdout",
     "output_type": "stream",
     "text": [
      "[[ 0  0  0  0  0  0]\n",
      " [ 6  0  0  0  0  0]\n",
      " [12 13  0  0  0  0]\n",
      " [18 19 20  0  0  0]\n",
      " [24 25 26 27  0  0]\n",
      " [30 31 32 33 34  0]]\n"
     ]
    }
   ],
   "source": [
    "print(scipy.linalg.tril(a, k=-1))"
   ]
  },
  {
   "cell_type": "code",
   "execution_count": 12,
   "metadata": {},
   "outputs": [
    {
     "name": "stdout",
     "output_type": "stream",
     "text": [
      "[[ 0  1  2  0  0  0]\n",
      " [ 6  7  8  9  0  0]\n",
      " [12 13 14 15 16  0]\n",
      " [18 19 20 21 22 23]\n",
      " [24 25 26 27 28 29]\n",
      " [30 31 32 33 34 35]]\n"
     ]
    }
   ],
   "source": [
    "print(scipy.linalg.tril(a, k=2))"
   ]
  },
  {
   "cell_type": "code",
   "execution_count": 13,
   "metadata": {},
   "outputs": [
    {
     "name": "stdout",
     "output_type": "stream",
     "text": [
      "[[ 0  1  2  3  4  5]\n",
      " [ 0  7  8  9 10 11]\n",
      " [ 0  0 14 15 16 17]\n",
      " [ 0  0  0 21 22 23]\n",
      " [ 0  0  0  0 28 29]\n",
      " [ 0  0  0  0  0 35]]\n"
     ]
    }
   ],
   "source": [
    "print(scipy.linalg.triu(a, k=0))"
   ]
  },
  {
   "cell_type": "code",
   "execution_count": 14,
   "metadata": {},
   "outputs": [
    {
     "name": "stdout",
     "output_type": "stream",
     "text": [
      "[[ 0  1  2  3  4  5]\n",
      " [ 6  7  8  9 10 11]\n",
      " [12 13 14 15 16 17]\n",
      " [ 0 19 20 21 22 23]\n",
      " [ 0  0 26 27 28 29]\n",
      " [ 0  0  0 33 34 35]]\n"
     ]
    }
   ],
   "source": [
    "print(scipy.linalg.triu(a, k=-2))"
   ]
  },
  {
   "cell_type": "code",
   "execution_count": 15,
   "metadata": {},
   "outputs": [
    {
     "name": "stdout",
     "output_type": "stream",
     "text": [
      "[[ 0  1  2  3  4  5]\n",
      " [ 0  0  8  9 10 11]\n",
      " [ 0  0  0 15 16 17]\n",
      " [ 0  0  0  0 22 23]\n",
      " [ 0  0  0  0  0 29]\n",
      " [ 0  0  0  0  0  0]]\n"
     ]
    }
   ],
   "source": [
    "print(scipy.linalg.triu(a, k=1))"
   ]
  },
  {
   "cell_type": "code",
   "execution_count": 16,
   "metadata": {},
   "outputs": [
    {
     "name": "stdout",
     "output_type": "stream",
     "text": [
      "[[ 0  1  2  3  4  5  6]\n",
      " [ 7  8  9 10 11 12 13]\n",
      " [14 15 16 17 18 19 20]\n",
      " [21 22 23 24 25 26 27]\n",
      " [28 29 30 31 32 33 34]\n",
      " [35 36 37 38 39 40 41]\n",
      " [42 43 44 45 46 47 48]]\n"
     ]
    }
   ],
   "source": [
    "a = np.arange(49).reshape((7, 7))\n",
    "print(a)"
   ]
  },
  {
   "cell_type": "code",
   "execution_count": 17,
   "metadata": {},
   "outputs": [
    {
     "name": "stdout",
     "output_type": "stream",
     "text": [
      "[[0. 1. 0. 0. 0. 0. 0.]\n",
      " [0. 0. 0. 0. 0. 0. 1.]\n",
      " [0. 0. 0. 0. 0. 1. 0.]\n",
      " [0. 0. 0. 1. 0. 0. 0.]\n",
      " [0. 0. 0. 0. 1. 0. 0.]\n",
      " [0. 0. 1. 0. 0. 0. 0.]\n",
      " [1. 0. 0. 0. 0. 0. 0.]]\n",
      "[[ 1.          0.          0.          0.          0.          0.\n",
      "   0.        ]\n",
      " [ 0.          1.          0.          0.          0.          0.\n",
      "   0.        ]\n",
      " [ 0.83333333  0.16666667  1.          0.          0.          0.\n",
      "   0.        ]\n",
      " [ 0.5         0.5        -0.          1.          0.          0.\n",
      "   0.        ]\n",
      " [ 0.66666667  0.33333333  0.5         0.          1.          0.\n",
      "   0.        ]\n",
      " [ 0.33333333  0.66666667  0.25        0.          0.          1.\n",
      "   0.        ]\n",
      " [ 0.16666667  0.83333333  0.125       0.          0.          0.\n",
      "   1.        ]]\n",
      "[[ 4.20000000e+01  4.30000000e+01  4.40000000e+01  4.50000000e+01\n",
      "   4.60000000e+01  4.70000000e+01  4.80000000e+01]\n",
      " [ 0.00000000e+00  1.00000000e+00  2.00000000e+00  3.00000000e+00\n",
      "   4.00000000e+00  5.00000000e+00  6.00000000e+00]\n",
      " [ 0.00000000e+00  0.00000000e+00 -7.10542736e-15 -1.42108547e-14\n",
      "  -1.42108547e-14 -2.13162821e-14 -2.84217094e-14]\n",
      " [ 0.00000000e+00  0.00000000e+00  0.00000000e+00  0.00000000e+00\n",
      "   0.00000000e+00  0.00000000e+00  0.00000000e+00]\n",
      " [ 0.00000000e+00  0.00000000e+00  0.00000000e+00  0.00000000e+00\n",
      "   0.00000000e+00  0.00000000e+00  0.00000000e+00]\n",
      " [ 0.00000000e+00  0.00000000e+00  0.00000000e+00  0.00000000e+00\n",
      "   0.00000000e+00  0.00000000e+00  0.00000000e+00]\n",
      " [ 0.00000000e+00  0.00000000e+00  0.00000000e+00  0.00000000e+00\n",
      "   0.00000000e+00  0.00000000e+00  0.00000000e+00]]\n"
     ]
    }
   ],
   "source": [
    "p, l, u = scipy.linalg.lu(a)\n",
    "# permutation matrix\n",
    "print(p)\n",
    "print(l)\n",
    "print(u)"
   ]
  },
  {
   "cell_type": "code",
   "execution_count": 18,
   "metadata": {},
   "outputs": [
    {
     "name": "stdout",
     "output_type": "stream",
     "text": [
      "[[ 0.         -0.91287093  0.40824829]\n",
      " [ 0.4472136  -0.36514837 -0.81649658]\n",
      " [ 0.89442719  0.18257419  0.40824829]]\n",
      "[[ 6.70820393e+00  8.04984472e+00  9.39148551e+00]\n",
      " [ 0.00000000e+00 -1.09544512e+00 -2.19089023e+00]\n",
      " [ 0.00000000e+00  0.00000000e+00  1.33226763e-15]]\n"
     ]
    }
   ],
   "source": [
    "a = np.arange(9).reshape((3, 3))\n",
    "q, r = scipy.linalg.qr(a)\n",
    "print(q)\n",
    "print(r)"
   ]
  },
  {
   "cell_type": "code",
   "execution_count": 19,
   "metadata": {},
   "outputs": [
    {
     "name": "stdout",
     "output_type": "stream",
     "text": [
      "[[ 4.44089210e-16  1.20402011e+00 -1.88423342e+00]\n",
      " [ 0.00000000e+00  6.02010056e-01 -7.04539452e+00]\n",
      " [ 0.00000000e+00  0.00000000e+00 -1.22065556e+01]]\n",
      "[[ 0.40824829 -0.81649658  0.40824829]\n",
      " [-0.76923507 -0.06689001  0.63545506]\n",
      " [-0.49153915 -0.57346234 -0.65538554]]\n"
     ]
    }
   ],
   "source": [
    "q, r = scipy.linalg.rq(a)\n",
    "print(q)\n",
    "print(r)"
   ]
  },
  {
   "cell_type": "code",
   "execution_count": null,
   "metadata": {},
   "outputs": [],
   "source": []
  }
 ],
 "metadata": {
  "kernelspec": {
   "display_name": "Python 3",
   "language": "python",
   "name": "python3"
  },
  "language_info": {
   "codemirror_mode": {
    "name": "ipython",
    "version": 3
   },
   "file_extension": ".py",
   "mimetype": "text/x-python",
   "name": "python",
   "nbconvert_exporter": "python",
   "pygments_lexer": "ipython3",
   "version": "3.5.3"
  }
 },
 "nbformat": 4,
 "nbformat_minor": 2
}
